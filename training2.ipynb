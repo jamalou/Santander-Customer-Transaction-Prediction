{
 "cells": [
  {
   "cell_type": "code",
   "execution_count": 2,
   "metadata": {},
   "outputs": [],
   "source": [
    "import numpy as np\n",
    "import pandas as pd\n",
    "import time\n",
    "\n",
    "from sklearn.model_selection import KFold\n",
    "from sklearn.metrics import roc_auc_score\n",
    "\n",
    "random_state = 13\n",
    "np.random.seed(random_state)"
   ]
  },
  {
   "cell_type": "code",
   "execution_count": 3,
   "metadata": {},
   "outputs": [
    {
     "name": "stdout",
     "output_type": "stream",
     "text": [
      "read data\n"
     ]
    }
   ],
   "source": [
    "print('read data')\n",
    "df_train = pd.read_csv('input/train.csv')\n",
    "df_test = pd.read_csv('input/test.csv')\n",
    "test_ID = df_test['ID_code'].values\n",
    "Y = df_train.target.values.astype(np.float32)\n",
    "df_train = df_train.drop(['ID_code','target'], axis=1)\n",
    "df_test = df_test.drop(['ID_code'], axis=1)\n",
    "df_all = pd.concat([df_train,df_test], axis=0, sort=False, ignore_index=True)\n",
    "del df_train, df_test\n",
    "enginering_feats = [('var_26','var_44'),('var_44','var_123'),('var_44','var_155')]"
   ]
  },
  {
   "cell_type": "code",
   "execution_count": 4,
   "metadata": {},
   "outputs": [
    {
     "name": "stdout",
     "output_type": "stream",
     "text": [
      "start training of LightGBM...\n"
     ]
    }
   ],
   "source": [
    "print('start training of LightGBM...')\n",
    "import lightgbm as lgb\n",
    "from sklearn.model_selection import KFold\n",
    "\n",
    "start_tiem = time.time()\n",
    "n_predict = 0\n",
    "valid = np.zeros( (len(test_ID),) )\n",
    "\n",
    "def lgb_roc_score(y_hat, data):\n",
    "    y_true = data.get_label()\n",
    "    return 'roc', roc_auc_score(y_true, y_hat), True"
   ]
  },
  {
   "cell_type": "code",
   "execution_count": 5,
   "metadata": {},
   "outputs": [],
   "source": [
    "for fe_id, fe in enumerate(enginering_feats):\n",
    "    # Magic Feature Enginering\n",
    "    df_e = df_all.copy()\n",
    "    df_e['%s_plus_%s'%fe] = df_e[fe[0]]+df_e[fe[1]]\n",
    "    df_e['%s_minus_%s'%fe] = df_e[fe[1]]-df_e[fe[0]]\n",
    "    df_e = df_e.drop(list(fe),axis=1)\n",
    "    Xp = df_e.values\n",
    "    _X = Xp[:len(Y)]\n",
    "    Xt = Xp[len(Y):]\n",
    "    X = _X\n",
    "    del df_e, _X"
   ]
  },
  {
   "cell_type": "code",
   "execution_count": 7,
   "metadata": {},
   "outputs": [
    {
     "data": {
      "text/plain": [
       "(200000, 200)"
      ]
     },
     "execution_count": 7,
     "metadata": {},
     "output_type": "execute_result"
    }
   ],
   "source": [
    "X.shape"
   ]
  },
  {
   "cell_type": "code",
   "execution_count": 8,
   "metadata": {},
   "outputs": [
    {
     "name": "stdout",
     "output_type": "stream",
     "text": [
      "Training until validation scores don't improve for 500 rounds.\n",
      "[2000]\ttraining's roc: 0.890832\tvalid_1's roc: 0.885666\n",
      "[4000]\ttraining's roc: 0.903794\tvalid_1's roc: 0.896343\n",
      "[6000]\ttraining's roc: 0.908305\tvalid_1's roc: 0.899578\n",
      "[8000]\ttraining's roc: 0.910497\tvalid_1's roc: 0.90072\n",
      "[10000]\ttraining's roc: 0.91187\tvalid_1's roc: 0.901186\n",
      "[12000]\ttraining's roc: 0.912828\tvalid_1's roc: 0.901345\n",
      "[14000]\ttraining's roc: 0.913604\tvalid_1's roc: 0.901467\n",
      "Early stopping, best iteration is:\n",
      "[14041]\ttraining's roc: 0.913622\tvalid_1's roc: 0.901481\n",
      "Training until validation scores don't improve for 500 rounds.\n",
      "[2000]\ttraining's roc: 0.890637\tvalid_1's roc: 0.88233\n",
      "[4000]\ttraining's roc: 0.903566\tvalid_1's roc: 0.894825\n",
      "[6000]\ttraining's roc: 0.9081\tvalid_1's roc: 0.898802\n",
      "[8000]\ttraining's roc: 0.910289\tvalid_1's roc: 0.900397\n",
      "[10000]\ttraining's roc: 0.911682\tvalid_1's roc: 0.901084\n",
      "[12000]\ttraining's roc: 0.912678\tvalid_1's roc: 0.901397\n",
      "[14000]\ttraining's roc: 0.913458\tvalid_1's roc: 0.901531\n",
      "Early stopping, best iteration is:\n",
      "[13549]\ttraining's roc: 0.913303\tvalid_1's roc: 0.901549\n",
      "Training until validation scores don't improve for 500 rounds.\n",
      "[2000]\ttraining's roc: 0.890385\tvalid_1's roc: 0.884927\n",
      "[4000]\ttraining's roc: 0.903403\tvalid_1's roc: 0.896659\n",
      "[6000]\ttraining's roc: 0.907883\tvalid_1's roc: 0.900251\n",
      "[8000]\ttraining's roc: 0.910062\tvalid_1's roc: 0.901859\n",
      "[10000]\ttraining's roc: 0.911364\tvalid_1's roc: 0.902694\n",
      "[12000]\ttraining's roc: 0.912348\tvalid_1's roc: 0.903161\n",
      "[14000]\ttraining's roc: 0.91311\tvalid_1's roc: 0.903366\n",
      "[16000]\ttraining's roc: 0.913755\tvalid_1's roc: 0.903457\n",
      "Early stopping, best iteration is:\n",
      "[17044]\ttraining's roc: 0.914049\tvalid_1's roc: 0.903515\n",
      "Training until validation scores don't improve for 500 rounds.\n",
      "[2000]\ttraining's roc: 0.892608\tvalid_1's roc: 0.872624\n",
      "[4000]\ttraining's roc: 0.905636\tvalid_1's roc: 0.884845\n",
      "[6000]\ttraining's roc: 0.910153\tvalid_1's roc: 0.888799\n",
      "[8000]\ttraining's roc: 0.912301\tvalid_1's roc: 0.890412\n",
      "[10000]\ttraining's roc: 0.913622\tvalid_1's roc: 0.891159\n",
      "[12000]\ttraining's roc: 0.914591\tvalid_1's roc: 0.891564\n",
      "Early stopping, best iteration is:\n",
      "[12726]\ttraining's roc: 0.914914\tvalid_1's roc: 0.891643\n",
      "Training until validation scores don't improve for 500 rounds.\n",
      "[2000]\ttraining's roc: 0.891964\tvalid_1's roc: 0.879577\n",
      "[4000]\ttraining's roc: 0.904733\tvalid_1's roc: 0.890778\n",
      "[6000]\ttraining's roc: 0.909321\tvalid_1's roc: 0.894151\n",
      "[8000]\ttraining's roc: 0.911546\tvalid_1's roc: 0.895479\n",
      "[10000]\ttraining's roc: 0.912839\tvalid_1's roc: 0.896137\n",
      "[12000]\ttraining's roc: 0.913773\tvalid_1's roc: 0.896456\n",
      "[14000]\ttraining's roc: 0.914506\tvalid_1's roc: 0.896567\n",
      "Early stopping, best iteration is:\n",
      "[13612]\ttraining's roc: 0.91437\tvalid_1's roc: 0.896578\n",
      "Training until validation scores don't improve for 500 rounds.\n",
      "[2000]\ttraining's roc: 0.891214\tvalid_1's roc: 0.883462\n",
      "[4000]\ttraining's roc: 0.90426\tvalid_1's roc: 0.893998\n",
      "[6000]\ttraining's roc: 0.908812\tvalid_1's roc: 0.897122\n",
      "[8000]\ttraining's roc: 0.911101\tvalid_1's roc: 0.898321\n",
      "[10000]\ttraining's roc: 0.912487\tvalid_1's roc: 0.898765\n",
      "[12000]\ttraining's roc: 0.913473\tvalid_1's roc: 0.89898\n",
      "[14000]\ttraining's roc: 0.914248\tvalid_1's roc: 0.89901\n",
      "Early stopping, best iteration is:\n",
      "[13524]\ttraining's roc: 0.914079\tvalid_1's roc: 0.89904\n",
      "save result.\n",
      "done.\n"
     ]
    }
   ],
   "source": [
    "for fold_id, (IDX_train, IDX_test) in enumerate(KFold(n_splits=6, random_state=fe_id+random_state, shuffle=True).split(Y)):\n",
    "    X_train = X[IDX_train]\n",
    "    X_test = X[IDX_test]\n",
    "    Y_train = Y[IDX_train]\n",
    "    Y_test = Y[IDX_test]\n",
    "\n",
    "    lgb_params = {\n",
    "        \"objective\" : \"binary\",\n",
    "        \"metric\" : \"roc\",\n",
    "        \"max_depth\" : 2,\n",
    "        \"num_leaves\" : 2,\n",
    "        \"learning_rate\" : 0.055,\n",
    "        \"bagging_fraction\" : 0.3,\n",
    "        \"feature_fraction\" : 0.15,\n",
    "        \"lambda_l1\" : 5,\n",
    "        \"lambda_l2\" : 5,\n",
    "        \"bagging_seed\" : fe_id,\n",
    "        \"verbosity\" : 1,\n",
    "        \"seed\": fe_id\n",
    "    }\n",
    "\n",
    "    lgtrain = lgb.Dataset(X_train, label=Y_train)\n",
    "    lgtest = lgb.Dataset(X_test, label=Y_test)\n",
    "    evals_result = {}\n",
    "    lgb_clf = lgb.train(lgb_params, lgtrain, 35000, \n",
    "                        valid_sets=[lgtrain, lgtest], \n",
    "                        early_stopping_rounds=500, \n",
    "                        verbose_eval=2000, \n",
    "                        feval=lgb_roc_score,\n",
    "                        evals_result=evals_result)\n",
    "    valid += lgb_clf.predict( Xt ).reshape((-1,))\n",
    "    n_predict += 1\n",
    "\n",
    "\n",
    "valid = np.clip( valid / n_predict, 0.0, 1.0 )\n",
    "print('save result.')\n",
    "pd.DataFrame({'ID_code':test_ID,'target':valid}).to_csv('submission_2.csv',index=False)\n",
    "print('done.')"
   ]
  },
  {
   "cell_type": "code",
   "execution_count": 9,
   "metadata": {},
   "outputs": [],
   "source": [
    "sub_1 = pd.read_csv('submission.csv')\n",
    "sub_2 = pd.read_csv('submission_2.csv')"
   ]
  },
  {
   "cell_type": "code",
   "execution_count": 11,
   "metadata": {},
   "outputs": [],
   "source": [
    "sub_1['target'] = (sub_1['target'] + sub_1['target'])/2"
   ]
  },
  {
   "cell_type": "code",
   "execution_count": 12,
   "metadata": {},
   "outputs": [],
   "source": [
    "sub_1.to_csv('submission_avg_1_2.csv',index=False)"
   ]
  },
  {
   "cell_type": "code",
   "execution_count": null,
   "metadata": {},
   "outputs": [],
   "source": []
  },
  {
   "cell_type": "code",
   "execution_count": null,
   "metadata": {},
   "outputs": [],
   "source": []
  },
  {
   "cell_type": "code",
   "execution_count": null,
   "metadata": {},
   "outputs": [],
   "source": []
  },
  {
   "cell_type": "code",
   "execution_count": null,
   "metadata": {},
   "outputs": [],
   "source": []
  },
  {
   "cell_type": "code",
   "execution_count": null,
   "metadata": {},
   "outputs": [],
   "source": []
  },
  {
   "cell_type": "code",
   "execution_count": null,
   "metadata": {},
   "outputs": [],
   "source": []
  },
  {
   "cell_type": "code",
   "execution_count": null,
   "metadata": {},
   "outputs": [],
   "source": []
  },
  {
   "cell_type": "code",
   "execution_count": null,
   "metadata": {},
   "outputs": [],
   "source": []
  },
  {
   "cell_type": "code",
   "execution_count": null,
   "metadata": {},
   "outputs": [],
   "source": []
  },
  {
   "cell_type": "code",
   "execution_count": null,
   "metadata": {},
   "outputs": [],
   "source": []
  }
 ],
 "metadata": {
  "kernelspec": {
   "display_name": "Python 3",
   "language": "python",
   "name": "python3"
  },
  "language_info": {
   "codemirror_mode": {
    "name": "ipython",
    "version": 3
   },
   "file_extension": ".py",
   "mimetype": "text/x-python",
   "name": "python",
   "nbconvert_exporter": "python",
   "pygments_lexer": "ipython3",
   "version": "3.6.7"
  }
 },
 "nbformat": 4,
 "nbformat_minor": 2
}
