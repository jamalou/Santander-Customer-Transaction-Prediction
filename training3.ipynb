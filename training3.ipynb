{
 "cells": [
  {
   "cell_type": "code",
   "execution_count": 1,
   "metadata": {},
   "outputs": [],
   "source": [
    "import gc\n",
    "import os\n",
    "import logging\n",
    "import datetime\n",
    "import warnings\n",
    "import numpy as np\n",
    "import pandas as pd\n",
    "import lightgbm as lgb\n",
    "from sklearn.metrics import mean_squared_error\n",
    "from sklearn.metrics import roc_auc_score, roc_curve\n",
    "from sklearn.model_selection import StratifiedKFold, train_test_split\n",
    "\n",
    "warnings.filterwarnings('ignore')"
   ]
  },
  {
   "cell_type": "code",
   "execution_count": 2,
   "metadata": {},
   "outputs": [],
   "source": [
    "#logger\n",
    "def get_logger():\n",
    "    FORMAT = '[%(levelname)s]%(asctime)s:%(name)s:%(message)s'\n",
    "    logging.basicConfig(format=FORMAT)\n",
    "    logger = logging.getLogger('main')\n",
    "    logger.setLevel(logging.DEBUG)\n",
    "    return logger"
   ]
  },
  {
   "cell_type": "code",
   "execution_count": 3,
   "metadata": {},
   "outputs": [],
   "source": [
    "logger = get_logger()"
   ]
  },
  {
   "cell_type": "code",
   "execution_count": 8,
   "metadata": {},
   "outputs": [],
   "source": [
    "def read_data(nrows=None, test_size=0.2):\n",
    "    logger.info('Input data')\n",
    "    train_df = pd.read_csv('./input/train.csv',nrows=nrows)\n",
    "    train_df, validation_df = train_test_split(train_df, test_size=test_size, random_state=101, stratify=train_df['target'].values)\n",
    "    test_df = pd.read_csv('./input/test.csv')\n",
    "    return train_df, validation_df, test_df"
   ]
  },
  {
   "cell_type": "code",
   "execution_count": 9,
   "metadata": {},
   "outputs": [
    {
     "name": "stderr",
     "output_type": "stream",
     "text": [
      "[INFO]2019-03-12 00:34:19,525:main:Input data\n"
     ]
    },
    {
     "ename": "ValueError",
     "evalue": "The test_size = 0 should be greater or equal to the number of classes = 2",
     "output_type": "error",
     "traceback": [
      "\u001b[1;31m---------------------------------------------------------------------------\u001b[0m",
      "\u001b[1;31mValueError\u001b[0m                                Traceback (most recent call last)",
      "\u001b[1;32m<ipython-input-9-d4692ddb9fc1>\u001b[0m in \u001b[0;36m<module>\u001b[1;34m\u001b[0m\n\u001b[1;32m----> 1\u001b[1;33m \u001b[0mtrain_df\u001b[0m\u001b[1;33m,\u001b[0m \u001b[0mvalidation_df\u001b[0m\u001b[1;33m,\u001b[0m \u001b[0mtest_df\u001b[0m \u001b[1;33m=\u001b[0m \u001b[0mread_data\u001b[0m\u001b[1;33m(\u001b[0m\u001b[1;32mNone\u001b[0m\u001b[1;33m,\u001b[0m \u001b[1;36m0.0\u001b[0m\u001b[1;33m)\u001b[0m\u001b[1;33m\u001b[0m\u001b[1;33m\u001b[0m\u001b[0m\n\u001b[0m",
      "\u001b[1;32m<ipython-input-8-fd0b45108ba7>\u001b[0m in \u001b[0;36mread_data\u001b[1;34m(nrows, test_size)\u001b[0m\n\u001b[0;32m      2\u001b[0m     \u001b[0mlogger\u001b[0m\u001b[1;33m.\u001b[0m\u001b[0minfo\u001b[0m\u001b[1;33m(\u001b[0m\u001b[1;34m'Input data'\u001b[0m\u001b[1;33m)\u001b[0m\u001b[1;33m\u001b[0m\u001b[1;33m\u001b[0m\u001b[0m\n\u001b[0;32m      3\u001b[0m     \u001b[0mtrain_df\u001b[0m \u001b[1;33m=\u001b[0m \u001b[0mpd\u001b[0m\u001b[1;33m.\u001b[0m\u001b[0mread_csv\u001b[0m\u001b[1;33m(\u001b[0m\u001b[1;34m'./input/train.csv'\u001b[0m\u001b[1;33m,\u001b[0m\u001b[0mnrows\u001b[0m\u001b[1;33m=\u001b[0m\u001b[0mnrows\u001b[0m\u001b[1;33m)\u001b[0m\u001b[1;33m\u001b[0m\u001b[1;33m\u001b[0m\u001b[0m\n\u001b[1;32m----> 4\u001b[1;33m     \u001b[0mtrain_df\u001b[0m\u001b[1;33m,\u001b[0m \u001b[0mvalidation_df\u001b[0m \u001b[1;33m=\u001b[0m \u001b[0mtrain_test_split\u001b[0m\u001b[1;33m(\u001b[0m\u001b[0mtrain_df\u001b[0m\u001b[1;33m,\u001b[0m \u001b[0mtest_size\u001b[0m\u001b[1;33m=\u001b[0m\u001b[0mtest_size\u001b[0m\u001b[1;33m,\u001b[0m \u001b[0mrandom_state\u001b[0m\u001b[1;33m=\u001b[0m\u001b[1;36m101\u001b[0m\u001b[1;33m,\u001b[0m \u001b[0mstratify\u001b[0m\u001b[1;33m=\u001b[0m\u001b[0mtrain_df\u001b[0m\u001b[1;33m[\u001b[0m\u001b[1;34m'target'\u001b[0m\u001b[1;33m]\u001b[0m\u001b[1;33m.\u001b[0m\u001b[0mvalues\u001b[0m\u001b[1;33m)\u001b[0m\u001b[1;33m\u001b[0m\u001b[1;33m\u001b[0m\u001b[0m\n\u001b[0m\u001b[0;32m      5\u001b[0m     \u001b[0mtest_df\u001b[0m \u001b[1;33m=\u001b[0m \u001b[0mpd\u001b[0m\u001b[1;33m.\u001b[0m\u001b[0mread_csv\u001b[0m\u001b[1;33m(\u001b[0m\u001b[1;34m'./input/test.csv'\u001b[0m\u001b[1;33m)\u001b[0m\u001b[1;33m\u001b[0m\u001b[1;33m\u001b[0m\u001b[0m\n\u001b[0;32m      6\u001b[0m     \u001b[1;32mreturn\u001b[0m \u001b[0mtrain_df\u001b[0m\u001b[1;33m,\u001b[0m \u001b[0mvalidation_df\u001b[0m\u001b[1;33m,\u001b[0m \u001b[0mtest_df\u001b[0m\u001b[1;33m\u001b[0m\u001b[1;33m\u001b[0m\u001b[0m\n",
      "\u001b[1;32m~\\Anaconda3\\envs\\kaggle\\lib\\site-packages\\sklearn\\model_selection\\_split.py\u001b[0m in \u001b[0;36mtrain_test_split\u001b[1;34m(*arrays, **options)\u001b[0m\n\u001b[0;32m   2207\u001b[0m                      random_state=random_state)\n\u001b[0;32m   2208\u001b[0m \u001b[1;33m\u001b[0m\u001b[0m\n\u001b[1;32m-> 2209\u001b[1;33m         \u001b[0mtrain\u001b[0m\u001b[1;33m,\u001b[0m \u001b[0mtest\u001b[0m \u001b[1;33m=\u001b[0m \u001b[0mnext\u001b[0m\u001b[1;33m(\u001b[0m\u001b[0mcv\u001b[0m\u001b[1;33m.\u001b[0m\u001b[0msplit\u001b[0m\u001b[1;33m(\u001b[0m\u001b[0mX\u001b[0m\u001b[1;33m=\u001b[0m\u001b[0marrays\u001b[0m\u001b[1;33m[\u001b[0m\u001b[1;36m0\u001b[0m\u001b[1;33m]\u001b[0m\u001b[1;33m,\u001b[0m \u001b[0my\u001b[0m\u001b[1;33m=\u001b[0m\u001b[0mstratify\u001b[0m\u001b[1;33m)\u001b[0m\u001b[1;33m)\u001b[0m\u001b[1;33m\u001b[0m\u001b[1;33m\u001b[0m\u001b[0m\n\u001b[0m\u001b[0;32m   2210\u001b[0m \u001b[1;33m\u001b[0m\u001b[0m\n\u001b[0;32m   2211\u001b[0m     return list(chain.from_iterable((safe_indexing(a, train),\n",
      "\u001b[1;32m~\\Anaconda3\\envs\\kaggle\\lib\\site-packages\\sklearn\\model_selection\\_split.py\u001b[0m in \u001b[0;36msplit\u001b[1;34m(self, X, y, groups)\u001b[0m\n\u001b[0;32m   1313\u001b[0m         \"\"\"\n\u001b[0;32m   1314\u001b[0m         \u001b[0mX\u001b[0m\u001b[1;33m,\u001b[0m \u001b[0my\u001b[0m\u001b[1;33m,\u001b[0m \u001b[0mgroups\u001b[0m \u001b[1;33m=\u001b[0m \u001b[0mindexable\u001b[0m\u001b[1;33m(\u001b[0m\u001b[0mX\u001b[0m\u001b[1;33m,\u001b[0m \u001b[0my\u001b[0m\u001b[1;33m,\u001b[0m \u001b[0mgroups\u001b[0m\u001b[1;33m)\u001b[0m\u001b[1;33m\u001b[0m\u001b[1;33m\u001b[0m\u001b[0m\n\u001b[1;32m-> 1315\u001b[1;33m         \u001b[1;32mfor\u001b[0m \u001b[0mtrain\u001b[0m\u001b[1;33m,\u001b[0m \u001b[0mtest\u001b[0m \u001b[1;32min\u001b[0m \u001b[0mself\u001b[0m\u001b[1;33m.\u001b[0m\u001b[0m_iter_indices\u001b[0m\u001b[1;33m(\u001b[0m\u001b[0mX\u001b[0m\u001b[1;33m,\u001b[0m \u001b[0my\u001b[0m\u001b[1;33m,\u001b[0m \u001b[0mgroups\u001b[0m\u001b[1;33m)\u001b[0m\u001b[1;33m:\u001b[0m\u001b[1;33m\u001b[0m\u001b[1;33m\u001b[0m\u001b[0m\n\u001b[0m\u001b[0;32m   1316\u001b[0m             \u001b[1;32myield\u001b[0m \u001b[0mtrain\u001b[0m\u001b[1;33m,\u001b[0m \u001b[0mtest\u001b[0m\u001b[1;33m\u001b[0m\u001b[1;33m\u001b[0m\u001b[0m\n\u001b[0;32m   1317\u001b[0m \u001b[1;33m\u001b[0m\u001b[0m\n",
      "\u001b[1;32m~\\Anaconda3\\envs\\kaggle\\lib\\site-packages\\sklearn\\model_selection\\_split.py\u001b[0m in \u001b[0;36m_iter_indices\u001b[1;34m(self, X, y, groups)\u001b[0m\n\u001b[0;32m   1705\u001b[0m             raise ValueError('The test_size = %d should be greater or '\n\u001b[0;32m   1706\u001b[0m                              \u001b[1;34m'equal to the number of classes = %d'\u001b[0m \u001b[1;33m%\u001b[0m\u001b[1;33m\u001b[0m\u001b[1;33m\u001b[0m\u001b[0m\n\u001b[1;32m-> 1707\u001b[1;33m                              (n_test, n_classes))\n\u001b[0m\u001b[0;32m   1708\u001b[0m \u001b[1;33m\u001b[0m\u001b[0m\n\u001b[0;32m   1709\u001b[0m         \u001b[1;31m# Find the sorted list of instances for each class:\u001b[0m\u001b[1;33m\u001b[0m\u001b[1;33m\u001b[0m\u001b[1;33m\u001b[0m\u001b[0m\n",
      "\u001b[1;31mValueError\u001b[0m: The test_size = 0 should be greater or equal to the number of classes = 2"
     ]
    }
   ],
   "source": [
    "train_df, validation_df, test_df = read_data()"
   ]
  },
  {
   "cell_type": "code",
   "execution_count": null,
   "metadata": {},
   "outputs": [],
   "source": []
  },
  {
   "cell_type": "code",
   "execution_count": null,
   "metadata": {},
   "outputs": [],
   "source": []
  },
  {
   "cell_type": "code",
   "execution_count": 10,
   "metadata": {},
   "outputs": [],
   "source": [
    "def process_data(train_df, validation_df, test_df):\n",
    "    logger.info('Features engineering')\n",
    "    idx = [c for c in train_df.columns if c not in ['ID_code', 'target']]\n",
    "    enginering_feats = [('var_26','var_44'),('var_44','var_123'),('var_44','var_155')]\n",
    "    \n",
    "    for df in [test_df, validation_df, train_df]:\n",
    "        #for feat in idx:\n",
    "        #    df['r2_'+feat] = np.round(df[feat], 2)\n",
    "        #for fe_id, fe in enumerate(enginering_feats):\n",
    "        #    # Magic Feature Enginering\n",
    "        #    df['%s_plus_%s'%fe] = df[fe[0]]+df[fe[1]]\n",
    "        #    df['%s_minus_%s'%fe] = df[fe[1]]-df[fe[0]]\n",
    "        #    df.drop(list(fe), axis=1)\n",
    "        df['sum'] = df[idx].sum(axis=1)  \n",
    "        df['min'] = df[idx].min(axis=1)\n",
    "        df['max'] = df[idx].max(axis=1)\n",
    "        df['mean'] = df[idx].mean(axis=1)\n",
    "        df['std'] = df[idx].std(axis=1)\n",
    "        df['skew'] = df[idx].skew(axis=1)\n",
    "        df['kurt'] = df[idx].kurtosis(axis=1)\n",
    "        df['med'] = df[idx].median(axis=1)\n",
    "    print('Train and test shape:',train_df.shape, test_df.shape)\n",
    "    return train_df, test_df"
   ]
  },
  {
   "cell_type": "code",
   "execution_count": 11,
   "metadata": {},
   "outputs": [],
   "source": [
    "def run_lgb_model(train_df, validation_df, test_df):\n",
    "    \n",
    "    logger.info('Prepare the model')\n",
    "    features = [c for c in train_df.columns if c not in ['ID_code', 'target']]\n",
    "    target = train_df['target']\n",
    "    logger.info('Run model')\n",
    "    param = {\n",
    "        'bagging_freq': 5,\n",
    "        'bagging_fraction': 0.38,\n",
    "        'boost_from_average':'false',\n",
    "        'boost': 'gbdt',\n",
    "        'feature_fraction': 0.045,\n",
    "        'learning_rate': 0.1,\n",
    "        'max_depth': -1,  \n",
    "        'metric':'auc',\n",
    "        'min_data_in_leaf': 80,\n",
    "        'min_sum_hessian_in_leaf': 10.0,\n",
    "        'num_leaves': 13,\n",
    "        'num_threads': 8,\n",
    "        'tree_learner': 'serial',\n",
    "        'objective': 'binary', \n",
    "        'verbosity': 1\n",
    "    }\n",
    "    num_round = 1000000\n",
    "    folds = StratifiedKFold(n_splits=12, shuffle=False, random_state=101)\n",
    "    oof = np.zeros(len(train_df))\n",
    "    test_predictions = np.zeros(len(test_df))\n",
    "    validation_predictions = np.zeros(len(validation_df))\n",
    "    for fold_, (trn_idx, val_idx) in enumerate(folds.split(train_df.values, target.values)):\n",
    "        print(\"Fold {}\".format(fold_))\n",
    "        trn_data = lgb.Dataset(train_df.iloc[trn_idx][features], label=target.iloc[trn_idx])\n",
    "        val_data = lgb.Dataset(train_df.iloc[val_idx][features], label=target.iloc[val_idx])\n",
    "        clf = lgb.train(param, trn_data, num_round, valid_sets = [trn_data, val_data], verbose_eval=1000, early_stopping_rounds = 3500)\n",
    "        oof[val_idx] = clf.predict(train_df.iloc[val_idx][features], num_iteration=clf.best_iteration)\n",
    "        test_predictions += clf.predict(test_df[features], num_iteration=clf.best_iteration) / folds.n_splits\n",
    "        validation_predictions += clf.predict(validation_df[features], num_iteration=clf.best_iteration) / folds.n_splits\n",
    "    \n",
    "    train_score = roc_auc_score(target, oof)\n",
    "    validation_score = roc_auc_score(validation_df.target, validation_predictions)\n",
    "    \n",
    "    print(\"CV score: {:<8.5f}\".format(train_score))\n",
    "    \n",
    "    submission = pd.read_csv('./input/sample_submission.csv')\n",
    "    submission['target'] = test_predictions\n",
    "    submission.to_csv('lgb_test_predictions_train_score_{}_validation_score_{}.csv'.format(train_score, validation_score), index=False)\n",
    "    \n",
    "    validation_df['target'] = validation_score\n",
    "    validation_df.to_csv('lgb_validation_predictions_train_score_{}_validation_score_{}.csv'.format(train_score, validation_score), index=False)\n",
    "    \n",
    "    return test_predictions, validation_predictions, train_score, validation_score"
   ]
  },
  {
   "cell_type": "code",
   "execution_count": 12,
   "metadata": {},
   "outputs": [],
   "source": [
    "def submit(test_df, predictions, score):\n",
    "    logger.info('Prepare submission')\n",
    "    sub = pd.DataFrame({\"ID_code\": test_df.ID_code.values})\n",
    "    sub[\"target\"] = predictions\n",
    "    sub.to_csv(\"submission_{:<8.5f}.csv\".format(score), index=False)"
   ]
  },
  {
   "cell_type": "code",
   "execution_count": 14,
   "metadata": {},
   "outputs": [],
   "source": [
    "def read_process_train_submit(nrows=None, test_size=0.2):\n",
    "    train_df, validation_df, test_df = read_data(nrows, test_size=test_size)\n",
    "    #train_df, test_df = process_data(train_df, test_df)\n",
    "    test_predictions, validation_predictions, train_score, validation_score = run_lgb_model(train_df, validation_df, test_df)\n",
    "    submit(test_df, test_predictions, score)\n",
    "    return train_score, validation_score"
   ]
  },
  {
   "cell_type": "code",
   "execution_count": 15,
   "metadata": {
    "scrolled": false
   },
   "outputs": [
    {
     "name": "stderr",
     "output_type": "stream",
     "text": [
      "[INFO]2019-03-12 00:37:20,730:main:Input data\n",
      "[INFO]2019-03-12 00:37:34,216:main:Prepare the model\n",
      "[INFO]2019-03-12 00:37:34,217:main:Run model\n"
     ]
    },
    {
     "name": "stdout",
     "output_type": "stream",
     "text": [
      "Fold 0\n",
      "Training until validation scores don't improve for 3500 rounds.\n",
      "[1000]\ttraining's auc: 0.948481\tvalid_1's auc: 0.890551\n",
      "[2000]\ttraining's auc: 0.975667\tvalid_1's auc: 0.888527\n",
      "[3000]\ttraining's auc: 0.990328\tvalid_1's auc: 0.883062\n",
      "[4000]\ttraining's auc: 0.996968\tvalid_1's auc: 0.878575\n",
      "Early stopping, best iteration is:\n",
      "[645]\ttraining's auc: 0.934219\tvalid_1's auc: 0.891959\n",
      "Fold 1\n",
      "Training until validation scores don't improve for 3500 rounds.\n",
      "[1000]\ttraining's auc: 0.94865\tvalid_1's auc: 0.890513\n",
      "[2000]\ttraining's auc: 0.975647\tvalid_1's auc: 0.88708\n",
      "[3000]\ttraining's auc: 0.990425\tvalid_1's auc: 0.883813\n",
      "[4000]\ttraining's auc: 0.996895\tvalid_1's auc: 0.880975\n",
      "Early stopping, best iteration is:\n",
      "[823]\ttraining's auc: 0.941983\tvalid_1's auc: 0.89161\n",
      "Fold 2\n",
      "Training until validation scores don't improve for 3500 rounds.\n",
      "[1000]\ttraining's auc: 0.949211\tvalid_1's auc: 0.889364\n",
      "[2000]\ttraining's auc: 0.975871\tvalid_1's auc: 0.88538\n",
      "[3000]\ttraining's auc: 0.990474\tvalid_1's auc: 0.883617\n",
      "[4000]\ttraining's auc: 0.996903\tvalid_1's auc: 0.880621\n",
      "Early stopping, best iteration is:\n",
      "[947]\ttraining's auc: 0.947423\tvalid_1's auc: 0.889769\n",
      "Fold 3\n",
      "Training until validation scores don't improve for 3500 rounds.\n",
      "[1000]\ttraining's auc: 0.94883\tvalid_1's auc: 0.888232\n",
      "[2000]\ttraining's auc: 0.97525\tvalid_1's auc: 0.88337\n",
      "[3000]\ttraining's auc: 0.990491\tvalid_1's auc: 0.878562\n",
      "[4000]\ttraining's auc: 0.997012\tvalid_1's auc: 0.876195\n",
      "Early stopping, best iteration is:\n",
      "[611]\ttraining's auc: 0.93367\tvalid_1's auc: 0.890869\n",
      "Fold 4\n",
      "Training until validation scores don't improve for 3500 rounds.\n",
      "[1000]\ttraining's auc: 0.949407\tvalid_1's auc: 0.886311\n",
      "[2000]\ttraining's auc: 0.975754\tvalid_1's auc: 0.881779\n",
      "[3000]\ttraining's auc: 0.990474\tvalid_1's auc: 0.877439\n",
      "[4000]\ttraining's auc: 0.997031\tvalid_1's auc: 0.874909\n",
      "Early stopping, best iteration is:\n",
      "[644]\ttraining's auc: 0.93537\tvalid_1's auc: 0.888545\n",
      "Fold 5\n",
      "Training until validation scores don't improve for 3500 rounds.\n",
      "[1000]\ttraining's auc: 0.948567\tvalid_1's auc: 0.896999\n",
      "[2000]\ttraining's auc: 0.975223\tvalid_1's auc: 0.895272\n",
      "[3000]\ttraining's auc: 0.990095\tvalid_1's auc: 0.891194\n",
      "[4000]\ttraining's auc: 0.996857\tvalid_1's auc: 0.889673\n",
      "Early stopping, best iteration is:\n",
      "[542]\ttraining's auc: 0.930214\tvalid_1's auc: 0.899\n",
      "Fold 6\n",
      "Training until validation scores don't improve for 3500 rounds.\n",
      "[1000]\ttraining's auc: 0.948836\tvalid_1's auc: 0.899063\n",
      "[2000]\ttraining's auc: 0.975695\tvalid_1's auc: 0.894458\n",
      "[3000]\ttraining's auc: 0.990512\tvalid_1's auc: 0.890187\n",
      "[4000]\ttraining's auc: 0.996936\tvalid_1's auc: 0.889349\n",
      "Early stopping, best iteration is:\n",
      "[722]\ttraining's auc: 0.938602\tvalid_1's auc: 0.899885\n",
      "Fold 7\n",
      "Training until validation scores don't improve for 3500 rounds.\n",
      "[1000]\ttraining's auc: 0.949116\tvalid_1's auc: 0.89375\n",
      "[2000]\ttraining's auc: 0.975705\tvalid_1's auc: 0.887525\n",
      "[3000]\ttraining's auc: 0.990423\tvalid_1's auc: 0.88422\n",
      "[4000]\ttraining's auc: 0.996891\tvalid_1's auc: 0.881359\n",
      "Early stopping, best iteration is:\n",
      "[777]\ttraining's auc: 0.940631\tvalid_1's auc: 0.895883\n",
      "Fold 8\n",
      "Training until validation scores don't improve for 3500 rounds.\n",
      "[1000]\ttraining's auc: 0.948766\tvalid_1's auc: 0.888111\n",
      "[2000]\ttraining's auc: 0.975011\tvalid_1's auc: 0.882016\n",
      "[3000]\ttraining's auc: 0.990142\tvalid_1's auc: 0.879042\n",
      "[4000]\ttraining's auc: 0.996752\tvalid_1's auc: 0.87512\n",
      "Early stopping, best iteration is:\n",
      "[701]\ttraining's auc: 0.93745\tvalid_1's auc: 0.889288\n",
      "Fold 9\n",
      "Training until validation scores don't improve for 3500 rounds.\n",
      "[1000]\ttraining's auc: 0.947703\tvalid_1's auc: 0.895394\n",
      "[2000]\ttraining's auc: 0.975165\tvalid_1's auc: 0.88725\n",
      "[3000]\ttraining's auc: 0.990071\tvalid_1's auc: 0.882397\n",
      "[4000]\ttraining's auc: 0.996736\tvalid_1's auc: 0.88061\n",
      "Early stopping, best iteration is:\n",
      "[673]\ttraining's auc: 0.934917\tvalid_1's auc: 0.897306\n",
      "Fold 10\n",
      "Training until validation scores don't improve for 3500 rounds.\n",
      "[1000]\ttraining's auc: 0.948521\tvalid_1's auc: 0.893227\n",
      "[2000]\ttraining's auc: 0.975723\tvalid_1's auc: 0.888732\n",
      "[3000]\ttraining's auc: 0.990466\tvalid_1's auc: 0.886786\n",
      "[4000]\ttraining's auc: 0.99688\tvalid_1's auc: 0.882642\n",
      "Early stopping, best iteration is:\n",
      "[930]\ttraining's auc: 0.946091\tvalid_1's auc: 0.893905\n",
      "Fold 11\n",
      "Training until validation scores don't improve for 3500 rounds.\n",
      "[1000]\ttraining's auc: 0.949372\tvalid_1's auc: 0.886364\n",
      "[2000]\ttraining's auc: 0.976062\tvalid_1's auc: 0.885067\n",
      "[3000]\ttraining's auc: 0.990512\tvalid_1's auc: 0.880735\n",
      "[4000]\ttraining's auc: 0.996985\tvalid_1's auc: 0.878098\n",
      "Early stopping, best iteration is:\n",
      "[1318]\ttraining's auc: 0.959298\tvalid_1's auc: 0.887858\n",
      "CV score: 0.89254 \n"
     ]
    },
    {
     "ename": "NameError",
     "evalue": "name 'predictions' is not defined",
     "output_type": "error",
     "traceback": [
      "\u001b[1;31m---------------------------------------------------------------------------\u001b[0m",
      "\u001b[1;31mNameError\u001b[0m                                 Traceback (most recent call last)",
      "\u001b[1;32m<ipython-input-15-dc47de93abfe>\u001b[0m in \u001b[0;36m<module>\u001b[1;34m\u001b[0m\n\u001b[1;32m----> 1\u001b[1;33m \u001b[0mread_process_train_submit\u001b[0m\u001b[1;33m(\u001b[0m\u001b[1;33m)\u001b[0m\u001b[1;33m\u001b[0m\u001b[1;33m\u001b[0m\u001b[0m\n\u001b[0m",
      "\u001b[1;32m<ipython-input-14-f3ba59f037eb>\u001b[0m in \u001b[0;36mread_process_train_submit\u001b[1;34m(nrows, test_size)\u001b[0m\n\u001b[0;32m      3\u001b[0m     \u001b[1;31m#train_df, test_df = process_data(train_df, test_df)\u001b[0m\u001b[1;33m\u001b[0m\u001b[1;33m\u001b[0m\u001b[1;33m\u001b[0m\u001b[0m\n\u001b[0;32m      4\u001b[0m     \u001b[0mtest_predictions\u001b[0m\u001b[1;33m,\u001b[0m \u001b[0mvalidation_predictions\u001b[0m\u001b[1;33m,\u001b[0m \u001b[0mtrain_score\u001b[0m\u001b[1;33m,\u001b[0m \u001b[0mvalidation_score\u001b[0m \u001b[1;33m=\u001b[0m \u001b[0mrun_lgb_model\u001b[0m\u001b[1;33m(\u001b[0m\u001b[0mtrain_df\u001b[0m\u001b[1;33m,\u001b[0m \u001b[0mvalidation_df\u001b[0m\u001b[1;33m,\u001b[0m \u001b[0mtest_df\u001b[0m\u001b[1;33m)\u001b[0m\u001b[1;33m\u001b[0m\u001b[1;33m\u001b[0m\u001b[0m\n\u001b[1;32m----> 5\u001b[1;33m     \u001b[0msubmit\u001b[0m\u001b[1;33m(\u001b[0m\u001b[0mtest_df\u001b[0m\u001b[1;33m,\u001b[0m \u001b[0mpredictions\u001b[0m\u001b[1;33m,\u001b[0m \u001b[0mscore\u001b[0m\u001b[1;33m)\u001b[0m\u001b[1;33m\u001b[0m\u001b[1;33m\u001b[0m\u001b[0m\n\u001b[0m",
      "\u001b[1;31mNameError\u001b[0m: name 'predictions' is not defined"
     ]
    }
   ],
   "source": [
    "read_process_train_submit()"
   ]
  },
  {
   "cell_type": "code",
   "execution_count": null,
   "metadata": {},
   "outputs": [],
   "source": []
  },
  {
   "cell_type": "code",
   "execution_count": null,
   "metadata": {},
   "outputs": [],
   "source": [
    "train_df, test_df = read_data()\n",
    "train_df, test_df = process_data(train_df, test_df)"
   ]
  },
  {
   "cell_type": "code",
   "execution_count": null,
   "metadata": {},
   "outputs": [],
   "source": []
  },
  {
   "cell_type": "code",
   "execution_count": null,
   "metadata": {},
   "outputs": [],
   "source": []
  },
  {
   "cell_type": "code",
   "execution_count": null,
   "metadata": {},
   "outputs": [],
   "source": []
  },
  {
   "cell_type": "code",
   "execution_count": null,
   "metadata": {},
   "outputs": [],
   "source": []
  }
 ],
 "metadata": {
  "kernelspec": {
   "display_name": "Python 3",
   "language": "python",
   "name": "python3"
  },
  "language_info": {
   "codemirror_mode": {
    "name": "ipython",
    "version": 3
   },
   "file_extension": ".py",
   "mimetype": "text/x-python",
   "name": "python",
   "nbconvert_exporter": "python",
   "pygments_lexer": "ipython3",
   "version": "3.6.7"
  }
 },
 "nbformat": 4,
 "nbformat_minor": 2
}
