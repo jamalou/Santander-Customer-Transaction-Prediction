{
 "cells": [
  {
   "cell_type": "code",
   "execution_count": 11,
   "metadata": {},
   "outputs": [
    {
     "name": "stdout",
     "output_type": "stream",
     "text": [
      "Requirement already up-to-date: pip in /Users/benramdhan/anaconda/lib/python3.6/site-packages (19.0.3)\n",
      "Requirement already up-to-date: imbalanced-learn in /Users/benramdhan/anaconda/lib/python3.6/site-packages (0.4.3)\n",
      "Requirement already satisfied, skipping upgrade: scipy>=0.13.3 in /Users/benramdhan/anaconda/lib/python3.6/site-packages (from imbalanced-learn) (0.19.0)\n",
      "Requirement already satisfied, skipping upgrade: numpy>=1.8.2 in /Users/benramdhan/anaconda/lib/python3.6/site-packages (from imbalanced-learn) (1.14.2)\n",
      "Requirement already satisfied, skipping upgrade: scikit-learn>=0.20 in /Users/benramdhan/anaconda/lib/python3.6/site-packages (from imbalanced-learn) (0.20.3)\n"
     ]
    }
   ],
   "source": [
    "## Install the package to deal with the unbalanced label classes problem\n",
    "! pip install --upgrade pip\n",
    "! pip install -U imbalanced-learn"
   ]
  },
  {
   "cell_type": "code",
   "execution_count": 12,
   "metadata": {},
   "outputs": [],
   "source": [
    "import gc\n",
    "import os\n",
    "import logging\n",
    "import datetime\n",
    "import warnings\n",
    "import numpy as np\n",
    "import pandas as pd\n",
    "import lightgbm as lgb\n",
    "from sklearn.metrics import mean_squared_error\n",
    "from sklearn.metrics import roc_auc_score, roc_curve\n",
    "from sklearn.model_selection import StratifiedKFold\n",
    "warnings.filterwarnings('ignore')\n",
    "\n",
    "# Oversampling Library \n",
    "from imblearn.over_sampling import RandomOverSampler, SMOTE, ADASYN\n",
    "# Plot librairies\n",
    "import seaborn as sns\n",
    "import matplotlib.pyplot as plt\n",
    "%matplotlib inline\n",
    "plt.rcParams['figure.figsize'] = 10, 6"
   ]
  },
  {
   "cell_type": "code",
   "execution_count": 13,
   "metadata": {
    "collapsed": true
   },
   "outputs": [],
   "source": [
    "#logger\n",
    "def get_logger():\n",
    "    FORMAT = '[%(levelname)s]%(asctime)s:%(name)s:%(message)s'\n",
    "    logging.basicConfig(format=FORMAT)\n",
    "    logger = logging.getLogger('main')\n",
    "    logger.setLevel(logging.DEBUG)\n",
    "    return logger"
   ]
  },
  {
   "cell_type": "code",
   "execution_count": 14,
   "metadata": {
    "collapsed": true
   },
   "outputs": [],
   "source": [
    "logger = get_logger()"
   ]
  },
  {
   "cell_type": "code",
   "execution_count": 15,
   "metadata": {
    "collapsed": true
   },
   "outputs": [],
   "source": [
    "def read_data(nrows=None):\n",
    "    logger.info('Input data')\n",
    "    train_df = pd.read_csv(os.getcwd() + '/train.csv',nrows=nrows)\n",
    "    test_df = pd.read_csv(os.getcwd() + '/test.csv')\n",
    "    return train_df, test_df"
   ]
  },
  {
   "cell_type": "code",
   "execution_count": 16,
   "metadata": {},
   "outputs": [
    {
     "name": "stderr",
     "output_type": "stream",
     "text": [
      "[INFO]2019-03-12 19:10:22,265:main:Input data\n"
     ]
    }
   ],
   "source": [
    "train_df, test_df = read_data(nrows=None)"
   ]
  },
  {
   "cell_type": "code",
   "execution_count": 7,
   "metadata": {},
   "outputs": [
    {
     "data": {
      "image/png": "[encoded data removed]",
      "text/plain": [
       "<matplotlib.figure.Figure at 0x11006ddd8>"
      ]
     },
     "metadata": {},
     "output_type": "display_data"
    }
   ],
   "source": [
    "click_plot = sns.countplot(x='target', data = train_df, palette='husl')"
   ]
  },
  {
   "cell_type": "code",
   "execution_count": 8,
   "metadata": {
    "collapsed": true
   },
   "outputs": [],
   "source": [
    "# def process_data(train_df, test_df):\n",
    "#     logger.info('Features engineering')\n",
    "#     idx = [c for c in train_df.columns if c not in ['ID_code', 'target']]\n",
    "#     enginering_feats = [('var_26','var_44'),('var_44','var_123'),('var_44','var_155')]\n",
    "    \n",
    "#     for df in [test_df, train_df]:\n",
    "#         for feat in idx:\n",
    "#             df['r2_'+feat] = np.round(df[feat], 2)\n",
    "#         for fe_id, fe in enumerate(enginering_feats):\n",
    "#             # Magic Feature Enginering\n",
    "#             df = df_all.copy()\n",
    "#             df['%s_plus_%s'%fe] = df[fe[0]]+df_e[fe[1]]\n",
    "#             df['%s_minus_%s'%fe] = df[fe[1]]-df_e[fe[0]]\n",
    "#             df.drop(list)\n",
    "#         df['sum'] = df[idx].sum(axis=1)  \n",
    "#         df['min'] = df[idx].min(axis=1)\n",
    "#         df['max'] = df[idx].max(axis=1)\n",
    "#         df['mean'] = df[idx].mean(axis=1)\n",
    "#         df['std'] = df[idx].std(axis=1)\n",
    "#         df['skew'] = df[idx].skew(axis=1)\n",
    "#         df['kurt'] = df[idx].kurtosis(axis=1)\n",
    "#         df['med'] = df[idx].median(axis=1)\n",
    "#     print('Train and test shape:',train_df.shape, test_df.shape)\n",
    "#     return train_df, test_df"
   ]
  },
  {
   "cell_type": "code",
   "execution_count": 17,
   "metadata": {
    "collapsed": true
   },
   "outputs": [],
   "source": [
    "def get_features_target(df):\n",
    "    features = [c for c in df.columns if c not in ['ID_code', 'target']]\n",
    "    target = df['target']\n",
    "    return features, target"
   ]
  },
  {
   "cell_type": "code",
   "execution_count": 18,
   "metadata": {
    "collapsed": true
   },
   "outputs": [],
   "source": [
    "def run_model(train_df, test_df):\n",
    "    logger.info('Prepare the model')\n",
    "    features, target = get_features_target(train_df)\n",
    "    logger.info('Run model')\n",
    "    # Hyper-parameters \n",
    "    param = {\n",
    "        'bagging_freq': 5,\n",
    "        'bagging_fraction': 0.38,\n",
    "        'boost_from_average':'false',\n",
    "        'boost': 'gbdt',\n",
    "        'feature_fraction': 0.045,\n",
    "        'learning_rate': 0.0095,\n",
    "        'max_depth': -1,  \n",
    "        'metric':'auc',\n",
    "        'min_data_in_leaf': 80,\n",
    "        'min_sum_hessian_in_leaf': 10.0,\n",
    "        'num_leaves': 13,\n",
    "        'num_threads': 8,\n",
    "        'tree_learner': 'serial',\n",
    "        'objective': 'binary', \n",
    "        'verbosity': 1\n",
    "    }\n",
    "    num_round = 1000000\n",
    "    folds = StratifiedKFold(n_splits=12, shuffle=False, random_state=44000)\n",
    "    oof = np.zeros(len(train_df))\n",
    "    predictions = np.zeros(len(test_df))\n",
    "    for fold_, (trn_idx, val_idx) in enumerate(folds.split(train_df.values, target.values)):\n",
    "        print(\"Fold {}\".format(fold_))\n",
    "        # Oversampling with random replacement\n",
    "        oversampled_features, oversampled_target = RandomOverSampler().fit_sample(train_df.iloc[trn_idx][features],\n",
    "                                                                                  target.iloc[trn_idx])\n",
    "\n",
    "        trn_data = lgb.Dataset(oversampled_features,\n",
    "                               label=oversampled_target)\n",
    "        val_data = lgb.Dataset(train_df.iloc[val_idx][features],\n",
    "                               label=target.iloc[val_idx])\n",
    "        clf = lgb.train(param,\n",
    "                        trn_data,\n",
    "                        num_round,\n",
    "                        valid_sets = [trn_data, val_data],\n",
    "                        verbose_eval=1000,\n",
    "                        early_stopping_rounds = 3500)\n",
    "        oof[val_idx] = clf.predict(train_df.iloc[val_idx][features], num_iteration=clf.best_iteration)\n",
    "        predictions += clf.predict(test_df[features], num_iteration=clf.best_iteration) / folds.n_splits\n",
    "    score = roc_auc_score(target, oof)\n",
    "    print(\"CV score: {:<8.5f}\".format(score))\n",
    "    return predictions, score"
   ]
  },
  {
   "cell_type": "code",
   "execution_count": 19,
   "metadata": {
    "collapsed": true
   },
   "outputs": [],
   "source": [
    "def submit(test_df, predictions, score):\n",
    "    logger.info('Prepare submission')\n",
    "    sub = pd.DataFrame({\"ID_code\": test_df.ID_code.values})\n",
    "    sub[\"target\"] = predictions\n",
    "    sub.to_csv(\"submission_{:<8.5f}.csv\".format(score), index=False)"
   ]
  },
  {
   "cell_type": "code",
   "execution_count": 20,
   "metadata": {
    "collapsed": true
   },
   "outputs": [],
   "source": [
    "def read_process_train_submit(nrows=None):\n",
    "    train_df, test_df = read_data(nrows)\n",
    "    #train_df, test_df = process_data(train_df, test_df)\n",
    "    predictions, score = run_model(train_df, test_df)\n",
    "    submit(test_df, predictions, score)"
   ]
  },
  {
   "cell_type": "code",
   "execution_count": null,
   "metadata": {
    "scrolled": true
   },
   "outputs": [
    {
     "name": "stderr",
     "output_type": "stream",
     "text": [
      "[INFO]2019-03-12 19:10:50,704:main:Input data\n",
      "[INFO]2019-03-12 19:11:06,200:main:Prepare the model\n",
      "[INFO]2019-03-12 19:11:06,201:main:Run model\n"
     ]
    },
    {
     "name": "stdout",
     "output_type": "stream",
     "text": [
      "Fold 0\n",
      "Training until validation scores don't improve for 3500 rounds.\n",
      "[1000]\ttraining's auc: 0.904626\tvalid_1's auc: 0.883476\n",
      "[2000]\ttraining's auc: 0.913833\tvalid_1's auc: 0.888999\n",
      "[3000]\ttraining's auc: 0.921008\tvalid_1's auc: 0.892558\n",
      "[4000]\ttraining's auc: 0.927175\tvalid_1's auc: 0.894819\n",
      "[5000]\ttraining's auc: 0.932626\tvalid_1's auc: 0.896705\n",
      "[6000]\ttraining's auc: 0.937535\tvalid_1's auc: 0.897822\n",
      "[7000]\ttraining's auc: 0.941982\tvalid_1's auc: 0.898587\n",
      "[8000]\ttraining's auc: 0.946186\tvalid_1's auc: 0.899025\n",
      "[9000]\ttraining's auc: 0.950115\tvalid_1's auc: 0.899448\n",
      "[10000]\ttraining's auc: 0.953785\tvalid_1's auc: 0.89967\n",
      "[11000]\ttraining's auc: 0.957232\tvalid_1's auc: 0.899636\n",
      "[12000]\ttraining's auc: 0.960449\tvalid_1's auc: 0.899837\n",
      "[13000]\ttraining's auc: 0.96338\tvalid_1's auc: 0.899891\n",
      "[14000]\ttraining's auc: 0.96619\tvalid_1's auc: 0.899829\n",
      "[15000]\ttraining's auc: 0.968716\tvalid_1's auc: 0.899709\n",
      "[16000]\ttraining's auc: 0.971094\tvalid_1's auc: 0.899646\n",
      "Early stopping, best iteration is:\n",
      "[12656]\ttraining's auc: 0.962405\tvalid_1's auc: 0.89998\n",
      "Fold 1\n",
      "Training until validation scores don't improve for 3500 rounds.\n",
      "[1000]\ttraining's auc: 0.904675\tvalid_1's auc: 0.885603\n",
      "[2000]\ttraining's auc: 0.914127\tvalid_1's auc: 0.88993\n",
      "[3000]\ttraining's auc: 0.921345\tvalid_1's auc: 0.892459\n",
      "[4000]\ttraining's auc: 0.927474\tvalid_1's auc: 0.894651\n",
      "[5000]\ttraining's auc: 0.932846\tvalid_1's auc: 0.895829\n"
     ]
    }
   ],
   "source": [
    "read_process_train_submit()"
   ]
  }
 ],
 "metadata": {
  "kernelspec": {
   "display_name": "Python 3",
   "language": "python",
   "name": "python3"
  },
  "language_info": {
   "codemirror_mode": {
    "name": "ipython",
    "version": 3
   },
   "file_extension": ".py",
   "mimetype": "text/x-python",
   "name": "python",
   "nbconvert_exporter": "python",
   "pygments_lexer": "ipython3",
   "version": "3.6.1"
  }
 },
 "nbformat": 4,
 "nbformat_minor": 2
}
